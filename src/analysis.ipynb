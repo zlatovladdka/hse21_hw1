{
 "cells": [
  {
   "cell_type": "code",
   "execution_count": 1,
   "metadata": {},
   "outputs": [
    {
     "name": "stdout",
     "output_type": "stream",
     "text": [
      "Всего контигов: 633\n",
      "Суммарная длина контигов: 3927160\n",
      "Максимальная длина контига: 135090\n",
      "N50 для контигов: 47790\n"
     ]
    }
   ],
   "source": [
    "cont = [el.split('\\n')[:-1] for el in ''.join(open('Poil_contig.fa').readlines()).split('>')[1:]]\n",
    "lgs_c = [len(''.join(el[1:])) for el in cont]\n",
    "lgs_c.sort(reverse=True)\n",
    "count, sm = 0, 0\n",
    "while sm < sum(lgs_c) // 2:\n",
    "    sm += lgs_c[count]\n",
    "    count += 1\n",
    "print(f'Всего контигов: {len(lgs_c)}', f'Суммарная длина контигов: {sum(lgs_c)}', f'Максимальная длина контига: {max(lgs_c)}', f'N50 для контигов: {lgs_c[count]}', sep='\\n')"
   ]
  },
  {
   "cell_type": "code",
   "execution_count": 2,
   "metadata": {},
   "outputs": [
    {
     "name": "stdout",
     "output_type": "stream",
     "text": [
      "Всего скаффолдов: 71\n",
      "Суммарная длина скаффолдов: 3876150\n",
      "Максимальная длина скаффолда: 3837928\n",
      "N50 для скаффолдов: 4648\n"
     ]
    }
   ],
   "source": [
    "scaff = [el.split('\\n')[:-1] for el in ''.join(open('Poil_scaffold.fa').readlines()).split('>')[1:]]\n",
    "lgs_s = [len(''.join(el[1:])) for el in scaff]\n",
    "lgs_s.sort(reverse=True)\n",
    "count, sm = 0, 0\n",
    "while sm < sum(lgs_s) // 2:\n",
    "    sm += lgs_s[count]\n",
    "    count += 1\n",
    "print(f'Всего скаффолдов: {len(lgs_s)}', f'Суммарная длина скаффолдов: {sum(lgs_s)}', f'Максимальная длина скаффолда: {max(lgs_s)}', f'N50 для скаффолдов: {lgs_s[count]}', sep='\\n')"
   ]
  },
  {
   "cell_type": "code",
   "execution_count": 3,
   "metadata": {},
   "outputs": [
    {
     "name": "stdout",
     "output_type": "stream",
     "text": [
      "Общая длина гэпов до обрезки: 6462\n",
      "Всего гэпов до обрезки: 63\n",
      "Общая длина гэпов после обрезки: 1264\n",
      "Всего гэпов после обрезки: 7\n"
     ]
    }
   ],
   "source": [
    "lgs_g0 = [''.join(el[1:]) for el in scaff]\n",
    "max_lg0 = max(lgs_g0, key=len)\n",
    "lg0 = max_lg0.count('N')\n",
    "\n",
    "count0 = 0\n",
    "for i in range(1, len(max_lg0)):\n",
    "    if max_lg0[i] == 'N' and max_lg0[i-1] != 'N':\n",
    "        count0 += 1\n",
    "        \n",
    "gap = [el.split('\\n')[:-1] for el in ''.join(open('Poil_gapClosed.fa').readlines()).split('>')[1:]]\n",
    "max_lg1 = max([(''.join(el[1:])) for el in gap], key=len)\n",
    "lg1 = max_lg1.count('N')\n",
    "\n",
    "count1 = 0\n",
    "for i in range(1, len(max_lg1)):\n",
    "    if max_lg1[i] == 'N' and max_lg1[i-1] != 'N':\n",
    "        count1 += 1\n",
    "\n",
    "print(f'Общая длина гэпов до обрезки: {lg0}', f'Всего гэпов до обрезки: {count0}', f'Общая длина гэпов после обрезки: {lg1}', f'Всего гэпов после обрезки: {count1}', sep='\\n')"
   ]
  }
 ],
 "metadata": {
  "kernelspec": {
   "display_name": "Python 3",
   "language": "python",
   "name": "python3"
  },
  "language_info": {
   "codemirror_mode": {
    "name": "ipython",
    "version": 3
   },
   "file_extension": ".py",
   "mimetype": "text/x-python",
   "name": "python",
   "nbconvert_exporter": "python",
   "pygments_lexer": "ipython3",
   "version": "3.7.6"
  }
 },
 "nbformat": 4,
 "nbformat_minor": 4
}
